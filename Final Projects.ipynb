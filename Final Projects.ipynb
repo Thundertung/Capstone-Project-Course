{
 "cells": [
  {
   "cell_type": "markdown",
   "metadata": {},
   "source": [
    "# Background"
   ]
  },
  {
   "cell_type": "markdown",
   "metadata": {},
   "source": [
    "### As Thai, I have been told by most of my non-asian friends that thailand is one of the most beatiful culture in the world. They said that my country is the best place they ever visited, and Thais are so welcoming and caring. But the most flattering thing my friend told about my country would be Thai food. It seems that European and American sometime crazy about Thai food, they treat Thai food as premium food. So I see the business oppurtunity of using the location data to find the best place to open Thai resturant."
   ]
  },
  {
   "cell_type": "markdown",
   "metadata": {},
   "source": [
    "# Problem"
   ]
  },
  {
   "cell_type": "markdown",
   "metadata": {},
   "source": [
    "### It is not easy task to open the resturant, the resturant life-time value depend primarily on its location, if we open at desert, we would only get a few customer per decades, but if we open it at the place that everyone want our food, we could get a fortune. Even though, I khow that place I like to open, which is Toronto, the place that full of diversity and fortune, I cannot just open at any location possible. The location should be the less-competitve or non-competitive with other Thai resturant competitors. The less similarity we have with the competitor, the more competitive advantage and value-added we can give and receive from customers.\n",
    "\n",
    "### In this sense, what I want to find out the place that has the less density of Thai resturant in Toronto by segmenting locations into clusters through K-mean clustering, The data to implement should be the data of Thai resturant in Toronto with the help of foursqure to identified their attributes and locations."
   ]
  },
  {
   "cell_type": "markdown",
   "metadata": {},
   "source": []
  },
  {
   "cell_type": "markdown",
   "metadata": {},
   "source": []
  },
  {
   "cell_type": "markdown",
   "metadata": {},
   "source": []
  },
  {
   "cell_type": "markdown",
   "metadata": {},
   "source": []
  },
  {
   "cell_type": "markdown",
   "metadata": {},
   "source": []
  },
  {
   "cell_type": "markdown",
   "metadata": {},
   "source": []
  },
  {
   "cell_type": "markdown",
   "metadata": {},
   "source": []
  },
  {
   "cell_type": "markdown",
   "metadata": {},
   "source": []
  }
 ],
 "metadata": {
  "kernelspec": {
   "display_name": "Python 3",
   "language": "python",
   "name": "python3"
  },
  "language_info": {
   "codemirror_mode": {
    "name": "ipython",
    "version": 3
   },
   "file_extension": ".py",
   "mimetype": "text/x-python",
   "name": "python",
   "nbconvert_exporter": "python",
   "pygments_lexer": "ipython3",
   "version": "3.7.8"
  }
 },
 "nbformat": 4,
 "nbformat_minor": 4
}
