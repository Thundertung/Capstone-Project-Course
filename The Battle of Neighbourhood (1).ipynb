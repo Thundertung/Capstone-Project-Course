{
 "cells": [
  {
   "cell_type": "markdown",
   "metadata": {},
   "source": [
    "# Problem Describtion\n",
    "\n",
    "### There is a problem, a traveler exhuasted problem of finding an accomodation that both nearest to the place you want to visit and has maximum number of pub&bar , resurant, coffee shop, most common place to visit and etc. \n",
    "### The traditional way to do this is to open the google search every place you can and want to visit, then find the place that nearest and maximized place to visit for the traveler. And sure money could be something to consider, however, when we travel it is better to know the best place to stay first and then the price,no matter what they can compare the price later on. "
   ]
  },
  {
   "cell_type": "markdown",
   "metadata": {},
   "source": [
    "# Data\n",
    "\n",
    "### The data we will use is the geospatial data i.e. longitue and latitute data of the pub&bar, resuturant, hotel and coffee shop from Toronto, where we will collect it from foursquare. The reason I will be use the location of Toronto is that I have exprerience a bit of Toronto location from past weeks, thus I would extract a much more better analyst from this perspective. \n",
    "\n",
    "### The input will only be the place traveler want to visit on the trips, which will use filtering to exclude other, then we will find the nearest accomodation with highest palce to visit.   for example, the traveler want to stay at the hotel that has at least coffe shop and resturant in this case we will just find one that closet to him,then suggest location that have highest place to visit we will ask his prefered distance.  \n",
    "\n"
   ]
  }
 ],
 "metadata": {
  "kernelspec": {
   "display_name": "Python 3",
   "language": "python",
   "name": "python3"
  },
  "language_info": {
   "codemirror_mode": {
    "name": "ipython",
    "version": 3
   },
   "file_extension": ".py",
   "mimetype": "text/x-python",
   "name": "python",
   "nbconvert_exporter": "python",
   "pygments_lexer": "ipython3",
   "version": "3.8.4"
  }
 },
 "nbformat": 4,
 "nbformat_minor": 4
}
