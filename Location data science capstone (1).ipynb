{
 "cells": [
  {
   "cell_type": "markdown",
   "metadata": {},
   "source": [
    "# Peer-graded Assignment: Week 3 Part 2 - Dhananjay Argade\n",
    "For Capstone Project\n",
    "## 1. Setting up the environment"
   ]
  },
  {
   "cell_type": "code",
   "execution_count": null,
   "metadata": {},
   "outputs": [],
   "source": [
    "import pandas as pd\n",
    "pd.set_option('display.max_columns', None)\n",
    "pd.set_option('display.max_rows', None)\n",
    "\n",
    "import json\n",
    "\n",
    "#!conda install -c conda-forge geopy --yes\n",
    "from geopy.geocoders import Nominatim\n",
    "\n",
    "from bs4 import BeautifulSoup\n",
    "from urllib.request import urlopen\n",
    "import requests\n",
    "from pandas.io.json import json_normalize\n",
    "\n",
    "import matplotlib.cm as cm\n",
    "import matplotlib.colors as colors\n",
    "\n",
    "from sklearn.cluster import KMeans\n",
    "\n",
    "import numpy as np\n",
    "#!conda install -c conda-forge folium=0.5.0 --yes\n",
    "import folium\n",
    "\n",
    "print('Libraries imported.')"
   ]
  },
  {
   "cell_type": "markdown",
   "metadata": {},
   "source": [
    "## 2. Parsing the html"
   ]
  },
  {
   "cell_type": "code",
   "execution_count": 13,
   "metadata": {},
   "outputs": [],
   "source": [
    "url = 'https://en.wikipedia.org/wiki/List_of_postal_codes_of_Canada:_M'\n",
    "page = urlopen(url).read().decode('utf-8')\n",
    "soup = BeautifulSoup(page, 'html.parser')\n",
    "\n",
    "wiki_table = soup.body.table.tbody"
   ]
  },
  {
   "cell_type": "markdown",
   "metadata": {},
   "source": [
    "## 3. Extracting data from the table to the data frame¶"
   ]
  },
  {
   "cell_type": "code",
   "execution_count": 14,
   "metadata": {},
   "outputs": [],
   "source": [
    "def get_cell(element):\n",
    "    cells = element.find_all('td')\n",
    "    row = []\n",
    "    \n",
    "    for cell in cells:\n",
    "        if cell.a:            \n",
    "            if (cell.a.text):\n",
    "                row.append(cell.a.text)\n",
    "                continue\n",
    "        row.append(cell.string.strip())\n",
    "        \n",
    "    return row\n",
    "def get_row():    \n",
    "    data = []  \n",
    "    \n",
    "    for tr in wiki_table.find_all('tr'):\n",
    "        row = get_cell(tr)\n",
    "        if len(row) != 3:\n",
    "            continue\n",
    "        data.append(row)        \n",
    "    \n",
    "    return data"
   ]
  },
  {
   "cell_type": "code",
   "execution_count": 15,
   "metadata": {},
   "outputs": [
    {
     "data": {
      "text/html": [
       "<div>\n",
       "<style scoped>\n",
       "    .dataframe tbody tr th:only-of-type {\n",
       "        vertical-align: middle;\n",
       "    }\n",
       "\n",
       "    .dataframe tbody tr th {\n",
       "        vertical-align: top;\n",
       "    }\n",
       "\n",
       "    .dataframe thead th {\n",
       "        text-align: right;\n",
       "    }\n",
       "</style>\n",
       "<table border=\"1\" class=\"dataframe\">\n",
       "  <thead>\n",
       "    <tr style=\"text-align: right;\">\n",
       "      <th></th>\n",
       "      <th>PostalCode</th>\n",
       "      <th>Borough</th>\n",
       "      <th>Neighbourhood</th>\n",
       "    </tr>\n",
       "  </thead>\n",
       "  <tbody>\n",
       "    <tr>\n",
       "      <th>0</th>\n",
       "      <td>M1A</td>\n",
       "      <td>Not assigned</td>\n",
       "      <td>Not assigned</td>\n",
       "    </tr>\n",
       "    <tr>\n",
       "      <th>1</th>\n",
       "      <td>M2A</td>\n",
       "      <td>Not assigned</td>\n",
       "      <td>Not assigned</td>\n",
       "    </tr>\n",
       "    <tr>\n",
       "      <th>2</th>\n",
       "      <td>M3A</td>\n",
       "      <td>North York</td>\n",
       "      <td>Parkwoods</td>\n",
       "    </tr>\n",
       "    <tr>\n",
       "      <th>3</th>\n",
       "      <td>M4A</td>\n",
       "      <td>North York</td>\n",
       "      <td>Victoria Village</td>\n",
       "    </tr>\n",
       "    <tr>\n",
       "      <th>4</th>\n",
       "      <td>M5A</td>\n",
       "      <td>Downtown Toronto</td>\n",
       "      <td>Regent Park, Harbourfront</td>\n",
       "    </tr>\n",
       "  </tbody>\n",
       "</table>\n",
       "</div>"
      ],
      "text/plain": [
       "  PostalCode           Borough              Neighbourhood\n",
       "0        M1A      Not assigned               Not assigned\n",
       "1        M2A      Not assigned               Not assigned\n",
       "2        M3A        North York                  Parkwoods\n",
       "3        M4A        North York           Victoria Village\n",
       "4        M5A  Downtown Toronto  Regent Park, Harbourfront"
      ]
     },
     "execution_count": 15,
     "metadata": {},
     "output_type": "execute_result"
    }
   ],
   "source": [
    "data = get_row()\n",
    "columns = ['PostalCode', 'Borough', 'Neighbourhood']\n",
    "df = pd.DataFrame(data, columns=columns)\n",
    "df.head()"
   ]
  },
  {
   "cell_type": "markdown",
   "metadata": {},
   "source": [
    "## 4. Cleaning the data"
   ]
  },
  {
   "cell_type": "code",
   "execution_count": 16,
   "metadata": {},
   "outputs": [],
   "source": [
    "df1 = df[df.Borough != 'Not assigned']\n",
    "df1 = df1.sort_values(by=['PostalCode','Borough'])\n",
    "\n",
    "df1.reset_index(inplace=True)\n",
    "df1.drop('index',axis=1,inplace=True)\n"
   ]
  },
  {
   "cell_type": "code",
   "execution_count": 17,
   "metadata": {},
   "outputs": [],
   "source": [
    "df_postcodes = df1['PostalCode']\n",
    "df_postcodes.drop_duplicates(inplace=True)\n",
    "df2 = pd.DataFrame(df_postcodes)\n",
    "df2['Borough'] = '';\n",
    "df2['Neighbourhood'] = '';\n",
    "\n",
    "\n",
    "df2.reset_index(inplace=True)\n",
    "df2.drop('index', axis=1, inplace=True)\n",
    "df1.reset_index(inplace=True)\n",
    "df1.drop('index', axis=1, inplace=True)\n",
    "\n",
    "for i in df2.index:\n",
    "    for j in df1.index:\n",
    "        if df2.iloc[i, 0] == df1.iloc[j, 0]:\n",
    "            df2.iloc[i, 1] = df1.iloc[j, 1]\n",
    "            df2.iloc[i, 2] = df2.iloc[i, 2] + ',' + df1.iloc[j, 2]\n",
    "            \n",
    "for i in df2.index:\n",
    "    s = df2.iloc[i, 2]\n",
    "    if s[0] == ',':\n",
    "        s =s [1:]\n",
    "    df2.iloc[i,2 ] = s"
   ]
  },
  {
   "cell_type": "markdown",
   "metadata": {},
   "source": [
    "## 5. Adding the geospatial data to the data frame"
   ]
  },
  {
   "cell_type": "code",
   "execution_count": 18,
   "metadata": {},
   "outputs": [
    {
     "data": {
      "text/html": [
       "<div>\n",
       "<style scoped>\n",
       "    .dataframe tbody tr th:only-of-type {\n",
       "        vertical-align: middle;\n",
       "    }\n",
       "\n",
       "    .dataframe tbody tr th {\n",
       "        vertical-align: top;\n",
       "    }\n",
       "\n",
       "    .dataframe thead th {\n",
       "        text-align: right;\n",
       "    }\n",
       "</style>\n",
       "<table border=\"1\" class=\"dataframe\">\n",
       "  <thead>\n",
       "    <tr style=\"text-align: right;\">\n",
       "      <th></th>\n",
       "      <th>Postal Code</th>\n",
       "      <th>Latitude</th>\n",
       "      <th>Longitude</th>\n",
       "    </tr>\n",
       "  </thead>\n",
       "  <tbody>\n",
       "    <tr>\n",
       "      <th>0</th>\n",
       "      <td>M1B</td>\n",
       "      <td>43.806686</td>\n",
       "      <td>-79.194353</td>\n",
       "    </tr>\n",
       "    <tr>\n",
       "      <th>1</th>\n",
       "      <td>M1C</td>\n",
       "      <td>43.784535</td>\n",
       "      <td>-79.160497</td>\n",
       "    </tr>\n",
       "    <tr>\n",
       "      <th>2</th>\n",
       "      <td>M1E</td>\n",
       "      <td>43.763573</td>\n",
       "      <td>-79.188711</td>\n",
       "    </tr>\n",
       "    <tr>\n",
       "      <th>3</th>\n",
       "      <td>M1G</td>\n",
       "      <td>43.770992</td>\n",
       "      <td>-79.216917</td>\n",
       "    </tr>\n",
       "    <tr>\n",
       "      <th>4</th>\n",
       "      <td>M1H</td>\n",
       "      <td>43.773136</td>\n",
       "      <td>-79.239476</td>\n",
       "    </tr>\n",
       "  </tbody>\n",
       "</table>\n",
       "</div>"
      ],
      "text/plain": [
       "  Postal Code   Latitude  Longitude\n",
       "0         M1B  43.806686 -79.194353\n",
       "1         M1C  43.784535 -79.160497\n",
       "2         M1E  43.763573 -79.188711\n",
       "3         M1G  43.770992 -79.216917\n",
       "4         M1H  43.773136 -79.239476"
      ]
     },
     "execution_count": 18,
     "metadata": {},
     "output_type": "execute_result"
    }
   ],
   "source": [
    "df2['Latitude'] = '0';\n",
    "df2['Longitude'] = '0';\n",
    "\n",
    "df_geo = pd.read_csv('C://Users/computer/Downloads/Geospatial_Coordinates.csv')\n",
    "df_geo.head()"
   ]
  },
  {
   "cell_type": "code",
   "execution_count": 19,
   "metadata": {},
   "outputs": [
    {
     "data": {
      "text/html": [
       "<div>\n",
       "<style scoped>\n",
       "    .dataframe tbody tr th:only-of-type {\n",
       "        vertical-align: middle;\n",
       "    }\n",
       "\n",
       "    .dataframe tbody tr th {\n",
       "        vertical-align: top;\n",
       "    }\n",
       "\n",
       "    .dataframe thead th {\n",
       "        text-align: right;\n",
       "    }\n",
       "</style>\n",
       "<table border=\"1\" class=\"dataframe\">\n",
       "  <thead>\n",
       "    <tr style=\"text-align: right;\">\n",
       "      <th></th>\n",
       "      <th>PostalCode</th>\n",
       "      <th>Borough</th>\n",
       "      <th>Neighbourhood</th>\n",
       "      <th>Latitude</th>\n",
       "      <th>Longitude</th>\n",
       "    </tr>\n",
       "  </thead>\n",
       "  <tbody>\n",
       "    <tr>\n",
       "      <th>0</th>\n",
       "      <td>M1B</td>\n",
       "      <td>Scarborough</td>\n",
       "      <td>Malvern, Rouge</td>\n",
       "      <td>43.8067</td>\n",
       "      <td>-79.1944</td>\n",
       "    </tr>\n",
       "    <tr>\n",
       "      <th>1</th>\n",
       "      <td>M1C</td>\n",
       "      <td>Scarborough</td>\n",
       "      <td>Rouge Hill, Port Union, Highland Creek</td>\n",
       "      <td>43.7845</td>\n",
       "      <td>-79.1605</td>\n",
       "    </tr>\n",
       "    <tr>\n",
       "      <th>2</th>\n",
       "      <td>M1E</td>\n",
       "      <td>Scarborough</td>\n",
       "      <td>Guildwood, Morningside, West Hill</td>\n",
       "      <td>43.7636</td>\n",
       "      <td>-79.1887</td>\n",
       "    </tr>\n",
       "    <tr>\n",
       "      <th>3</th>\n",
       "      <td>M1G</td>\n",
       "      <td>Scarborough</td>\n",
       "      <td>Woburn</td>\n",
       "      <td>43.771</td>\n",
       "      <td>-79.2169</td>\n",
       "    </tr>\n",
       "    <tr>\n",
       "      <th>4</th>\n",
       "      <td>M1H</td>\n",
       "      <td>Scarborough</td>\n",
       "      <td>Cedarbrae</td>\n",
       "      <td>43.7731</td>\n",
       "      <td>-79.2395</td>\n",
       "    </tr>\n",
       "  </tbody>\n",
       "</table>\n",
       "</div>"
      ],
      "text/plain": [
       "  PostalCode      Borough                           Neighbourhood Latitude  \\\n",
       "0        M1B  Scarborough                          Malvern, Rouge  43.8067   \n",
       "1        M1C  Scarborough  Rouge Hill, Port Union, Highland Creek  43.7845   \n",
       "2        M1E  Scarborough       Guildwood, Morningside, West Hill  43.7636   \n",
       "3        M1G  Scarborough                                  Woburn   43.771   \n",
       "4        M1H  Scarborough                               Cedarbrae  43.7731   \n",
       "\n",
       "  Longitude  \n",
       "0  -79.1944  \n",
       "1  -79.1605  \n",
       "2  -79.1887  \n",
       "3  -79.2169  \n",
       "4  -79.2395  "
      ]
     },
     "execution_count": 19,
     "metadata": {},
     "output_type": "execute_result"
    }
   ],
   "source": [
    "for i in df2.index:\n",
    "    for j in df_geo.index:\n",
    "        if df2.iloc[i, 0] == df_geo.iloc[j, 0]:\n",
    "            df2.iloc[i, 3] = df_geo.iloc[j, 1]\n",
    "            df2.iloc[i, 4] = df_geo.iloc[j, 2]\n",
    "            \n",
    "df2.head()"
   ]
  },
  {
   "cell_type": "markdown",
   "metadata": {},
   "source": [
    "## 6. Clustering the neighborhoods in Toronto"
   ]
  },
  {
   "cell_type": "code",
   "execution_count": 20,
   "metadata": {},
   "outputs": [
    {
     "data": {
      "text/html": [
       "<div>\n",
       "<style scoped>\n",
       "    .dataframe tbody tr th:only-of-type {\n",
       "        vertical-align: middle;\n",
       "    }\n",
       "\n",
       "    .dataframe tbody tr th {\n",
       "        vertical-align: top;\n",
       "    }\n",
       "\n",
       "    .dataframe thead th {\n",
       "        text-align: right;\n",
       "    }\n",
       "</style>\n",
       "<table border=\"1\" class=\"dataframe\">\n",
       "  <thead>\n",
       "    <tr style=\"text-align: right;\">\n",
       "      <th></th>\n",
       "      <th>PostalCode</th>\n",
       "      <th>Borough</th>\n",
       "      <th>Neighbourhood</th>\n",
       "      <th>Latitude</th>\n",
       "      <th>Longitude</th>\n",
       "    </tr>\n",
       "  </thead>\n",
       "  <tbody>\n",
       "    <tr>\n",
       "      <th>37</th>\n",
       "      <td>M4E</td>\n",
       "      <td>East Toronto</td>\n",
       "      <td>The Beaches</td>\n",
       "      <td>43.6764</td>\n",
       "      <td>-79.293</td>\n",
       "    </tr>\n",
       "    <tr>\n",
       "      <th>41</th>\n",
       "      <td>M4K</td>\n",
       "      <td>East Toronto</td>\n",
       "      <td>The Danforth West, Riverdale</td>\n",
       "      <td>43.6796</td>\n",
       "      <td>-79.3522</td>\n",
       "    </tr>\n",
       "    <tr>\n",
       "      <th>42</th>\n",
       "      <td>M4L</td>\n",
       "      <td>East Toronto</td>\n",
       "      <td>India Bazaar, The Beaches West</td>\n",
       "      <td>43.669</td>\n",
       "      <td>-79.3156</td>\n",
       "    </tr>\n",
       "    <tr>\n",
       "      <th>43</th>\n",
       "      <td>M4M</td>\n",
       "      <td>East Toronto</td>\n",
       "      <td>Studio District</td>\n",
       "      <td>43.6595</td>\n",
       "      <td>-79.3409</td>\n",
       "    </tr>\n",
       "    <tr>\n",
       "      <th>44</th>\n",
       "      <td>M4N</td>\n",
       "      <td>Central Toronto</td>\n",
       "      <td>Lawrence Park</td>\n",
       "      <td>43.728</td>\n",
       "      <td>-79.3888</td>\n",
       "    </tr>\n",
       "  </tbody>\n",
       "</table>\n",
       "</div>"
      ],
      "text/plain": [
       "   PostalCode          Borough                   Neighbourhood Latitude  \\\n",
       "37        M4E     East Toronto                     The Beaches  43.6764   \n",
       "41        M4K     East Toronto    The Danforth West, Riverdale  43.6796   \n",
       "42        M4L     East Toronto  India Bazaar, The Beaches West   43.669   \n",
       "43        M4M     East Toronto                 Studio District  43.6595   \n",
       "44        M4N  Central Toronto                   Lawrence Park   43.728   \n",
       "\n",
       "   Longitude  \n",
       "37   -79.293  \n",
       "41  -79.3522  \n",
       "42  -79.3156  \n",
       "43  -79.3409  \n",
       "44  -79.3888  "
      ]
     },
     "execution_count": 20,
     "metadata": {},
     "output_type": "execute_result"
    }
   ],
   "source": [
    "df3 = df2.copy()\n",
    "df3 = df3[df2.Borough.str.contains(\"Toronto\")]\n",
    "df3.head()"
   ]
  },
  {
   "cell_type": "code",
   "execution_count": 24,
   "metadata": {},
   "outputs": [
    {
     "data": {
      "text/html": [
       "<div style=\"width:100%;\"><div style=\"position:relative;width:100%;height:0;padding-bottom:60%;\"><span style=\"color:#565656\">Make this Notebook Trusted to load map: File -> Trust Notebook</span><iframe src=\"about:blank\" style=\"position:absolute;width:100%;height:100%;left:0;top:0;border:none !important;\" data-html=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 onload=\"this.contentDocument.open();this.contentDocument.write(atob(this.getAttribute('data-html')));this.contentDocument.close();\" allowfullscreen webkitallowfullscreen mozallowfullscreen></iframe></div></div>"
      ],
      "text/plain": [
       "<folium.folium.Map at 0x15a794e2a88>"
      ]
     },
     "execution_count": 24,
     "metadata": {},
     "output_type": "execute_result"
    }
   ],
   "source": [
    "toronto_map = folium.Map(location=[43.65, -79.4], zoom_start=12)\n",
    "\n",
    "X = df3['Latitude']\n",
    "Y = df3['Longitude']\n",
    "Z = np.stack((X, Y), axis=1)\n",
    "\n",
    "kmeans = KMeans(n_clusters=4, random_state=0).fit(Z)\n",
    "\n",
    "clusters = kmeans.labels_\n",
    "colors = ['red', 'green', 'blue', 'yellow']\n",
    "df3['Cluster'] = clusters\n",
    "\n",
    "for latitude, longitude, borough, cluster in zip(df3['Latitude'], df3['Longitude'], df3['Borough'], df3['Cluster']):\n",
    "    label = folium.Popup(borough, parse_html=True)\n",
    "    folium.CircleMarker([latitude, longitude],radius=5,popup=label,color='black',fill=True,fill_color=colors[cluster],fill_opacity=0.7).add_to(toronto_map)  \n",
    "\n",
    "toronto_map"
   ]
  },
  {
   "cell_type": "code",
   "execution_count": null,
   "metadata": {},
   "outputs": [],
   "source": []
  },
  {
   "cell_type": "code",
   "execution_count": null,
   "metadata": {},
   "outputs": [],
   "source": []
  },
  {
   "cell_type": "code",
   "execution_count": null,
   "metadata": {},
   "outputs": [],
   "source": []
  },
  {
   "cell_type": "code",
   "execution_count": null,
   "metadata": {},
   "outputs": [],
   "source": []
  }
 ],
 "metadata": {
  "kernelspec": {
   "display_name": "Python 3",
   "language": "python",
   "name": "python3"
  },
  "language_info": {
   "codemirror_mode": {
    "name": "ipython",
    "version": 3
   },
   "file_extension": ".py",
   "mimetype": "text/x-python",
   "name": "python",
   "nbconvert_exporter": "python",
   "pygments_lexer": "ipython3",
   "version": "3.7.8"
  }
 },
 "nbformat": 4,
 "nbformat_minor": 4
}
